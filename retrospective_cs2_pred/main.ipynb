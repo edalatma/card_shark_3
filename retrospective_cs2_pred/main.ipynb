{
 "metadata": {
  "language_info": {
   "codemirror_mode": {
    "name": "ipython",
    "version": 3
   },
   "file_extension": ".py",
   "mimetype": "text/x-python",
   "name": "python",
   "nbconvert_exporter": "python",
   "pygments_lexer": "ipython3",
   "version": "3.7.3-final"
  },
  "orig_nbformat": 2,
  "kernelspec": {
   "name": "python3",
   "display_name": "Python 3.7.3 64-bit",
   "metadata": {
    "interpreter": {
     "hash": "c698e7b7471b0b4dc63c1fbdb7848e0da2956136fcefd10bb790d713a393a786"
    }
   }
  }
 },
 "nbformat": 4,
 "nbformat_minor": 2,
 "cells": [
  {
   "cell_type": "code",
   "execution_count": 1,
   "metadata": {},
   "outputs": [],
   "source": [
    "import gitlab\n",
    "import re\n",
    "import pandas as pd\n",
    "import json"
   ]
  },
  {
   "cell_type": "code",
   "execution_count": 5,
   "metadata": {},
   "outputs": [],
   "source": [
    "config_path = os.path.join('resources', 'config.json')\n",
    "with open(config_path, 'r') as f:\n",
    "    config = json.load(f)\n",
    "    token = config.get('token')\n",
    "    host = config.get('host')\n",
    "    cs_2 = config.get('cs_2')\n",
    "\n",
    "def get_issues(pId): \n",
    "    gl = gitlab.Gitlab(host, private_token=token, api_version=4, ssl_verify=True)\n",
    "    project = gl.projects.get(pId)\n",
    "    issues = project.issues.list(all=True)\n",
    "    pmids = dict(high=[], low=[])\n",
    "    for issue in issues:\n",
    "        try:\n",
    "            description = issue.description\n",
    "\n",
    "            description = description.split('#### `Low Level Results`')\n",
    "            h_pmid_list = re.findall(r'ncbi\\.nlm\\.nih\\.gov\\/pubmed\\/(\\d*)', description[0])\n",
    "            l_pmid_list = re.findall(r'ncbi\\.nlm\\.nih\\.gov\\/pubmed\\/(\\d*)', description[1])\n",
    "\n",
    "            pmids['high'] += h_pmid_list\n",
    "            pmids['low'] += l_pmid_list\n",
    "        except:\n",
    "            continue\n",
    "\n",
    "    pmids = {x: list(set(y)) for x, y in pmids.items()}\n",
    "\n",
    "    return pmids"
   ]
  },
  {
   "cell_type": "code",
   "execution_count": 6,
   "metadata": {
    "tags": []
   },
   "outputs": [],
   "source": [
    "cs_2_pmids = get_issues(cs_2)\n",
    "with open(os.path.join('out', 'cs_2_predictions.json'), 'w') as f:\n",
    "    json.dump(cs_2_pmids, f)"
   ]
  }
 ]
}